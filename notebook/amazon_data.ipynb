{
 "metadata": {
  "name": "",
  "signature": "sha256:ebc6df502a337f59a6d3433cb3e83d06ce9f4f94ac3495d9e2b251729f4cc78c"
 },
 "nbformat": 3,
 "nbformat_minor": 0,
 "worksheets": [
  {
   "cells": [
    {
     "cell_type": "markdown",
     "metadata": {},
     "source": [
      "#Properties\n",
      "* Number of reviews = 34686770\n",
      "* max(word_count) = 22482897\n",
      "* min(word_count) = 1\n",
      "* max(pair_count) = 142302\n",
      "* min(pair_count) = 1\n",
      "* max(sum(pair_count|w)) = 1.590694E7\n",
      "* min(sum(pair_count|w)) = 1.0\n",
      "* number of vectors = 1164"
     ]
    },
    {
     "cell_type": "code",
     "collapsed": false,
     "input": [
      "def count_leq(x, array):\n",
      "    left = -1\n",
      "    right = len(array)\n",
      "    while left + 1 < right:\n",
      "        mid = (left + right) / 2\n",
      "        if array[mid] <= x:\n",
      "            right = mid\n",
      "        else:\n",
      "            left = mid\n",
      "    return float(len(array) - right) / len(array)"
     ],
     "language": "python",
     "metadata": {},
     "outputs": [],
     "prompt_number": 13
    },
    {
     "cell_type": "code",
     "collapsed": false,
     "input": [
      "f_word_count = open(\"word_count.txt\")\n",
      "word_count = [(w, int(c)) for (w, c) in [w.strip()[1:-1].split(',') for w in f_word_count]]\n",
      "counts_only = [c for (w, c) in word_count]\n",
      "print word_count[:10]"
     ],
     "language": "python",
     "metadata": {},
     "outputs": [
      {
       "output_type": "stream",
       "stream": "stdout",
       "text": [
        "[('book', 22482897), ('one', 18064750), ('quot', 15154461), ('like', 13070086), ('great', 11251602), ('movie', 11196487), ('good', 10344735), ('read', 9811958), ('would', 8894613), ('time', 8828688)]\n"
       ]
      }
     ],
     "prompt_number": 14
    },
    {
     "cell_type": "code",
     "collapsed": false,
     "input": [
      "print sum([w[1] for w in word_count])\n",
      "print sum([w[1] for w in word_count][:10])"
     ],
     "language": "python",
     "metadata": {},
     "outputs": [
      {
       "output_type": "stream",
       "stream": "stdout",
       "text": [
        "1957526387\n",
        "129100277"
       ]
      },
      {
       "output_type": "stream",
       "stream": "stdout",
       "text": [
        "\n"
       ]
      }
     ],
     "prompt_number": 15
    },
    {
     "cell_type": "code",
     "collapsed": false,
     "input": [
      "print len(word_count)\n",
      "print count_leq(10000, counts_only)\n",
      "print count_leq(1000, counts_only)\n",
      "print count_leq(200, counts_only)\n",
      "print count_leq(100, counts_only)\n",
      "print count_leq(10, counts_only)\n",
      "print count_leq(1, counts_only)"
     ],
     "language": "python",
     "metadata": {},
     "outputs": [
      {
       "output_type": "stream",
       "stream": "stdout",
       "text": [
        "2775279\n",
        "0.994868624019\n",
        "0.982941174563\n",
        "0.964049019936\n",
        "0.949609030299\n",
        "0.81870795693\n",
        "0.419839230578\n"
       ]
      }
     ],
     "prompt_number": 16
    },
    {
     "cell_type": "code",
     "collapsed": false,
     "input": [
      "figure()\n",
      "dots = [x for x in range(0, 1000, 10)]\n",
      "plot(dots, [count_leq(x, counts_only) for x in dots], 'r')\n",
      "xlabel('words')\n",
      "ylabel('counts')\n",
      "title('Word Counts CDF')\n",
      "show()"
     ],
     "language": "python",
     "metadata": {},
     "outputs": [
      {
       "metadata": {},
       "output_type": "display_data",
       "png": "[encoded data removed]",
       "text": [
        "<matplotlib.figure.Figure at 0x36c5f9d0>"
       ]
      }
     ],
     "prompt_number": 17
    },
    {
     "cell_type": "code",
     "collapsed": false,
     "input": [
      "f_kld_counts = open(\"kld_times_count.txt\")\n",
      "kld_times_count = [(w, float(c)) for (w, c) in [raw.strip()[2:-1].split('),') for raw in f_kld_counts]]\n",
      "products_only = [c for (w, c) in kld_times_count]\n",
      "for s in kld_times_count[:10]:\n",
      "    print s"
     ],
     "language": "python",
     "metadata": {},
     "outputs": [
      {
       "output_type": "stream",
       "stream": "stdout",
       "text": [
        "('book,0.4873671755771936,22482897', 10957426.009682959)\n",
        "('album,1.2838060452603948,6814153', 8748050.814729255)\n",
        "('ago,5.541526485653954,1217968', 6749401.930678975)\n",
        "('movie,0.5646402935616371,11196487', 6321987.706539054)\n",
        "('story,0.6745107748415292,7083875', 4778150.015130538)\n",
        "('also,0.7685631675936585,6194257', 4760677.780809192)\n",
        "('novel,1.713447947710333,2633198', 4511847.709014953)\n",
        "('cd,0.9800819736360392,4548040', 4457452.019375652)\n",
        "('film,0.7030782520263275,6256054', 4398495.5109023135)\n",
        "('characters,1.2321363645353371,3511790', 4327004.163611552)\n"
       ]
      }
     ],
     "prompt_number": 18
    },
    {
     "cell_type": "code",
     "collapsed": false,
     "input": [
      "kld = [float(w.split(',')[1]) for (w, p) in kld_times_count]\n",
      "kld.sort(reverse=True)\n",
      "figure()\n",
      "plot(arange(0, int(max(kld))+1, 0.01), [count_leq(x, kld) for x in arange(0, int(max(kld))+1, 0.01)], 'r')\n",
      "xlabel('words')\n",
      "ylabel('KL Divergence')\n",
      "title('KL Divergence CDF')\n",
      "show()"
     ],
     "language": "python",
     "metadata": {},
     "outputs": [
      {
       "metadata": {},
       "output_type": "display_data",
       "png": "[encoded data removed]",
       "text": [
        "<matplotlib.figure.Figure at 0xe92d110>"
       ]
      }
     ],
     "prompt_number": 19
    },
    {
     "cell_type": "code",
     "collapsed": false,
     "input": [
      "figure()\n",
      "dots = [x for x in range(0, 400000, 100)]\n",
      "plot(dots, [count_leq(x, products_only) for x in dots], 'r')\n",
      "xlabel('words')\n",
      "ylabel('product')\n",
      "title('KL Divergence * Word Count')\n",
      "show()"
     ],
     "language": "python",
     "metadata": {},
     "outputs": [
      {
       "metadata": {},
       "output_type": "display_data",
       "png": "[encoded data removed]",
       "text": [
        "<matplotlib.figure.Figure at 0x10029a50>"
       ]
      }
     ],
     "prompt_number": 20
    },
    {
     "cell_type": "code",
     "collapsed": false,
     "input": [
      "print len(products_only)\n",
      "print count_leq(1000000, products_only)\n",
      "print count_leq(750000, products_only)\n",
      "print count_leq(500000, products_only)\n",
      "print count_leq(400000, products_only)\n",
      "print count_leq(100000, products_only)"
     ],
     "language": "python",
     "metadata": {},
     "outputs": [
      {
       "output_type": "stream",
       "stream": "stdout",
       "text": [
        "110849\n",
        "0.9976003392\n",
        "0.996048678833\n",
        "0.992431145071\n",
        "0.98949922868\n",
        "0.951167804852\n"
       ]
      }
     ],
     "prompt_number": 21
    },
    {
     "cell_type": "markdown",
     "metadata": {},
     "source": [
      "# Word pairs over whole article"
     ]
    },
    {
     "cell_type": "code",
     "collapsed": false,
     "input": [
      "from math import log\n",
      "def calc_jsd(v1, v2):\n",
      "    length = 490000\n",
      "    m1 = {a: b for (a, b) in v1}\n",
      "    m2 = {a: b for (a, b) in v2}\n",
      "    result = 0.0\n",
      "    for u in range(length):\n",
      "        m = (m1.get(u, 0) + m2.get(u, 0)) / 2.0\n",
      "        if u in m1:\n",
      "            result = result + m1[u] * log(m1[u] / m)\n",
      "        if u in m2:\n",
      "            result = result + m2[u] * log(m2[u] / m)\n",
      "    return result / 2.0"
     ],
     "language": "python",
     "metadata": {},
     "outputs": [],
     "prompt_number": 149
    },
    {
     "cell_type": "code",
     "collapsed": false,
     "input": [
      "f_jsd = open(\"jsd.txt\")\n",
      "jsd = []\n",
      "for raw in f_jsd:\n",
      "    if raw[0] == '(':\n",
      "        jsd.append(raw.strip()[1:-1].rsplit(',',1))\n",
      "        jsd[-1][1] = float(jsd[-1][1])\n",
      "    else:\n",
      "        break\n",
      "jsd.sort(key = lambda w: w[1])\n",
      "vecs = {}\n",
      "for raw in f_jsd:\n",
      "    if raw[0] == '(':\n",
      "        word, vec = raw.strip()[1:-1].split(',', 1)\n",
      "        length, vec = vec[1:-1].split(',', 1)\n",
      "        idx, val = vec[1:-1].split('],[')\n",
      "        idx = [int(w) for w in idx.split(',')]\n",
      "        val = [float(w) for w in val.split(',')]\n",
      "        vec = sorted([(p, v) for (p, v) in zip(idx, val)], key = lambda w: w[0])\n",
      "        vecs[word] = vec\n",
      "    else:\n",
      "        break\n",
      "dictMap = {}\n",
      "word_id = 0\n",
      "for raw in f_jsd:\n",
      "    dictMap[word_id] = raw.strip()\n",
      "    word_id = word_id + 1"
     ],
     "language": "python",
     "metadata": {},
     "outputs": [],
     "prompt_number": 1
    },
    {
     "cell_type": "code",
     "collapsed": false,
     "input": [
      "print [(w[0], sqrt(w[1])) for w in jsd][:20]\n",
      "print\n",
      "print [(w[0], sqrt(w[1])) for w in jsd][-10:]"
     ],
     "language": "python",
     "metadata": {},
     "outputs": [
      {
       "output_type": "stream",
       "stream": "stdout",
       "text": [
        "[('first,well', 0.1491404736876222), ('bought,got', 0.17845405191975125), ('first,like', 0.18209088701172438), ('bought,purchased', 0.18471625530297717), ('one,quot', 0.19322251687976807), ('like,one', 0.19666634791469026), ('even,first', 0.19953431459627324), ('excellent,great', 0.200681882354453), ('good,great', 0.20187723529157037), ('like,many', 0.20200088139240507), ('like,well', 0.2020821687143359), ('many,one', 0.20329848949636004), ('even,like', 0.20353145844242293), ('first,one', 0.20500047450842279), ('even,one', 0.2060664095044816), ('one,though', 0.20687659361133559), ('every,one', 0.20732030917793168), ('like,though', 0.20765798561832455), ('every,like', 0.20853603209300492), ('many,though', 0.20861611676685832)]\n",
        "\n",
        "[('effect,subjects', 0.83255461115769924), ('crew,effect', 0.83255461115769946), ('develop,effect', 0.83255461115769958), ('experiences,extent', 0.83255461115769991), ('copies,extent', 0.83255461115769991), ('extent,forth', 0.83255461115770024), ('appear,bothered', 0.83255461115770024), ('continue,effect', 0.83255461115770046), ('effect,forth', 0.83255461115770046), ('effect,struggle', 0.83255461115770146)]"
       ]
      },
      {
       "output_type": "stream",
       "stream": "stdout",
       "text": [
        "\n"
       ]
      }
     ],
     "prompt_number": 2
    },
    {
     "cell_type": "code",
     "collapsed": false,
     "input": [
      "# print len(jsd)\n",
      "jsd_only = [sqrt(w[1]) for w in reversed(jsd)]\n",
      "x_min = 0.25\n",
      "x_max = 0.5\n",
      "dots = [x for x in arange(x_min, x_max, 0.001)]\n",
      "plt.loglog(dots, [count_leq(x, jsd_only) for x in dots], 'r')\n",
      "plt.grid(which='both')\n",
      "plt.xlim([x_min, x_max])\n",
      "plt.xlabel('JS Divergence')\n",
      "plt.ylabel('CDF')\n",
      "plt.title('JS Divergence')\n",
      "c1 = count_leq(x_min, jsd_only)\n",
      "c2 = count_leq(x_max, jsd_only)\n",
      "print (c1 - c2) / (x_min - x_max)"
     ],
     "language": "python",
     "metadata": {},
     "outputs": [
      {
       "ename": "NameError",
       "evalue": "name 'jsd' is not defined",
       "output_type": "pyerr",
       "traceback": [
        "\u001b[1;31m---------------------------------------------------------------------------\u001b[0m\n\u001b[1;31mNameError\u001b[0m                                 Traceback (most recent call last)",
        "\u001b[1;32m<ipython-input-13-d94700d5f5ed>\u001b[0m in \u001b[0;36m<module>\u001b[1;34m()\u001b[0m\n\u001b[0;32m      1\u001b[0m \u001b[1;31m# print len(jsd)\u001b[0m\u001b[1;33m\u001b[0m\u001b[1;33m\u001b[0m\u001b[0m\n\u001b[1;32m----> 2\u001b[1;33m \u001b[0mjsd_only\u001b[0m \u001b[1;33m=\u001b[0m \u001b[1;33m[\u001b[0m\u001b[0msqrt\u001b[0m\u001b[1;33m(\u001b[0m\u001b[0mw\u001b[0m\u001b[1;33m[\u001b[0m\u001b[1;36m1\u001b[0m\u001b[1;33m]\u001b[0m\u001b[1;33m)\u001b[0m \u001b[1;32mfor\u001b[0m \u001b[0mw\u001b[0m \u001b[1;32min\u001b[0m \u001b[0mreversed\u001b[0m\u001b[1;33m(\u001b[0m\u001b[0mjsd\u001b[0m\u001b[1;33m)\u001b[0m\u001b[1;33m]\u001b[0m\u001b[1;33m\u001b[0m\u001b[0m\n\u001b[0m\u001b[0;32m      3\u001b[0m \u001b[0mx_min\u001b[0m \u001b[1;33m=\u001b[0m \u001b[1;36m0.25\u001b[0m\u001b[1;33m\u001b[0m\u001b[0m\n\u001b[0;32m      4\u001b[0m \u001b[0mx_max\u001b[0m \u001b[1;33m=\u001b[0m \u001b[1;36m0.5\u001b[0m\u001b[1;33m\u001b[0m\u001b[0m\n\u001b[0;32m      5\u001b[0m \u001b[0mdots\u001b[0m \u001b[1;33m=\u001b[0m \u001b[1;33m[\u001b[0m\u001b[0mx\u001b[0m \u001b[1;32mfor\u001b[0m \u001b[0mx\u001b[0m \u001b[1;32min\u001b[0m \u001b[0marange\u001b[0m\u001b[1;33m(\u001b[0m\u001b[0mx_min\u001b[0m\u001b[1;33m,\u001b[0m \u001b[0mx_max\u001b[0m\u001b[1;33m,\u001b[0m \u001b[1;36m0.001\u001b[0m\u001b[1;33m)\u001b[0m\u001b[1;33m]\u001b[0m\u001b[1;33m\u001b[0m\u001b[0m\n",
        "\u001b[1;31mNameError\u001b[0m: name 'jsd' is not defined"
       ]
      }
     ],
     "prompt_number": 13
    },
    {
     "cell_type": "code",
     "collapsed": false,
     "input": [
      "print calc_jsd(vecs['first'], vecs['well'])\n",
      "print calc_jsd(vecs['first'], vecs['like'])\n",
      "print calc_jsd(vecs['like'], vecs['well'])\n",
      "figure()\n",
      "# dots = [x for x in range(0, max(vecs['first'][-1][0], vecs['like'][-1][0], vecs['well'][-1][0], 100)]\n",
      "plot([w[0] for w in vecs['first']], [w[1] for w in vecs['first']], 'ro')\n",
      "plot([w[0] for w in vecs['well']], [w[1] for w in vecs['well']], 'go')\n",
      "xlabel('words')\n",
      "ylabel('freq')\n",
      "title('Vector')\n",
      "show()"
     ],
     "language": "python",
     "metadata": {},
     "outputs": [
      {
       "output_type": "stream",
       "stream": "stdout",
       "text": [
        "0.0222428808918\n",
        "0.0331570911327"
       ]
      },
      {
       "output_type": "stream",
       "stream": "stdout",
       "text": [
        "\n",
        "0.0408372029123"
       ]
      },
      {
       "output_type": "stream",
       "stream": "stdout",
       "text": [
        "\n"
       ]
      },
      {
       "metadata": {},
       "output_type": "display_data",
       "png": "[encoded data removed]",
       "text": [
        "<matplotlib.figure.Figure at 0x24238510>"
       ]
      }
     ],
     "prompt_number": 153
    },
    {
     "cell_type": "code",
     "collapsed": false,
     "input": [
      "def top_words(word, top):\n",
      "    return [dictMap[k[0]] for k in sorted(vecs[word], key = lambda w: w[1], reverse=True)][:top]\n",
      "\n",
      "print top_words('first', 10)\n",
      "print top_words('well', 10)\n",
      "print len(dictMap)"
     ],
     "language": "python",
     "metadata": {},
     "outputs": [
      {
       "output_type": "stream",
       "stream": "stdout",
       "text": [
        "['one', 'like', 'book', 'quot', 'movie', 'good', 'would', 'great', 'album', 'time']\n",
        "['one', 'quot', 'like', 'book', 'good', 'movie', 'album', 'great', 'really', 'would']"
       ]
      },
      {
       "output_type": "stream",
       "stream": "stdout",
       "text": [
        "\n",
        "487805\n"
       ]
      }
     ],
     "prompt_number": 185
    },
    {
     "cell_type": "code",
     "collapsed": false,
     "input": [
      "print calc_jsd(vecs['appear'], vecs['bothered'])\n",
      "figure()\n",
      "plot([w[0] for w in vecs['appear']], [w[1] for w in vecs['appear']], 'ro')\n",
      "plot([w[0] for w in vecs['bothered']], [w[1] for w in vecs['bothered']], 'bo')\n",
      "xlabel('words')\n",
      "ylabel('freq')\n",
      "title('Vector')\n",
      "show()"
     ],
     "language": "python",
     "metadata": {},
     "outputs": [
      {
       "output_type": "stream",
       "stream": "stdout",
       "text": [
        "0.69314718056\n"
       ]
      },
      {
       "metadata": {},
       "output_type": "display_data",
       "png": "[encoded data removed]",
       "text": [
        "<matplotlib.figure.Figure at 0x5980a9d0>"
       ]
      }
     ],
     "prompt_number": 165
    },
    {
     "cell_type": "code",
     "collapsed": false,
     "input": [
      "print float(len([x for x in jsd if x[1] <= 0.24])) / len(jsd)"
     ],
     "language": "python",
     "metadata": {},
     "outputs": [
      {
       "output_type": "stream",
       "stream": "stdout",
       "text": [
        "0.112979526228\n"
       ]
      }
     ],
     "prompt_number": 176
    },
    {
     "cell_type": "code",
     "collapsed": false,
     "input": [
      "# print len(jsd)\n",
      "jsd_only = [sqrt(w[1]) for w in reversed(jsd)]\n",
      "# x_min = min(jsd_only)\n",
      "# x_max = max(jsd_only)\n",
      "x_min = 0.25\n",
      "x_max = 0.5\n",
      "dots = [x for x in arange(x_min, x_max, 0.001)]\n",
      "plt.loglog(dots, [count_leq(x, jsd_only) for x in dots], 'r')\n",
      "plt.grid(which='both')\n",
      "# plt.xlim([x_min, x_max])\n",
      "plt.xlabel('JS Divergence')\n",
      "plt.ylabel('CDF')\n",
      "plt.title('JS Divergence')\n",
      "c1 = count_leq(x_min, jsd_only)\n",
      "c2 = count_leq(x_max, jsd_only)\n",
      "print (c1 - c2) / (x_min - x_max)"
     ],
     "language": "python",
     "metadata": {},
     "outputs": [
      {
       "output_type": "stream",
       "stream": "stdout",
       "text": [
        "0.525906161633\n"
       ]
      },
      {
       "metadata": {},
       "output_type": "display_data",
       "png": "[encoded data removed]",
       "text": [
        "<matplotlib.figure.Figure at 0x6f3a0350>"
       ]
      }
     ],
     "prompt_number": 201
    },
    {
     "cell_type": "markdown",
     "metadata": {},
     "source": [
      "# Word pairs over each sentences"
     ]
    },
    {
     "cell_type": "code",
     "collapsed": false,
     "input": [
      "# array is in reversed order (from largest to smallest)\n",
      "def count_leq_with_weights(x, array, sum_weights = []):\n",
      "    left = -1\n",
      "    right = len(array)\n",
      "    while left + 1 < right:\n",
      "        mid = (left + right) / 2\n",
      "        if array[mid] <= x:\n",
      "            right = mid\n",
      "        else:\n",
      "            left = mid\n",
      "    if sum_weights:\n",
      "        return sum_weights[right] / float(sum_weights[0])\n",
      "    return float(len(array) - right) / len(array)"
     ],
     "language": "python",
     "metadata": {},
     "outputs": [],
     "prompt_number": 33
    },
    {
     "cell_type": "code",
     "collapsed": false,
     "input": [
      "f_jsd = open(\"amazon_jsd.txt\")\n",
      "jsd_sen = []\n",
      "for raw in f_jsd:\n",
      "    if raw[0] == '(':\n",
      "        jsd_sen.append(raw.strip()[1:-1].rsplit(',',1))\n",
      "        jsd_sen[-1][1] = float(jsd_sen[-1][1])\n",
      "    else:\n",
      "        break\n",
      "jsd_sen.sort(key = lambda w: w[1])\n",
      "vecs = {}\n",
      "counts = {}\n",
      "for raw in f_jsd:\n",
      "    if raw[0] == '(':\n",
      "        word, rest = raw.strip()[1:-1].split(',', 1)\n",
      "        length, rest = rest[2:-1].split(',', 1)\n",
      "        vec, count = rest.split('),')\n",
      "        idx, val = vec[1:-1].split('],[')\n",
      "        count = int(count)\n",
      "        idx = [int(w) for w in idx.split(',')]\n",
      "        val = [float(w) for w in val.split(',')]\n",
      "        vec = sorted([(p, v) for (p, v) in zip(idx, val)], key = lambda w: w[0])\n",
      "        vecs[word] = vec\n",
      "        counts[word] = count\n",
      "    else:\n",
      "        break\n",
      "dictMap = {}\n",
      "word_id = 0\n",
      "for raw in f_jsd:\n",
      "    dictMap[word_id] = raw.strip()\n",
      "    word_id = word_id + 1"
     ],
     "language": "python",
     "metadata": {},
     "outputs": [],
     "prompt_number": 34
    },
    {
     "cell_type": "code",
     "collapsed": false,
     "input": [
      "print jsd_sen[:10]\n",
      "print\n",
      "# print jsd[:10]\n",
      "print len(jsd_sen)"
     ],
     "language": "python",
     "metadata": {},
     "outputs": [
      {
       "output_type": "stream",
       "stream": "stdout",
       "text": [
        "[['first,well', 0.022217094386130908], ['bought,got', 0.03188647793373149], ['first,like', 0.03314181036428148], ['bought,purchased', 0.03414489492304678], ['first,since', 0.034272776267506695], ['like,since', 0.03584747356635475], ['one,quot', 0.03729578878757655], ['like,one', 0.03865780560847315], ['even,first', 0.03982222784051019], ['excellent,great', 0.040237406208546524]]\n",
        "\n",
        "727821\n"
       ]
      }
     ],
     "prompt_number": 35
    },
    {
     "cell_type": "code",
     "collapsed": false,
     "input": [
      "# print len(jsd)\n",
      "jsd_only = [sqrt(w[1]) for w in reversed(jsd_sen)]\n",
      "# sum_weights = [counts[w[0]] for w in reversed(jsd_sen)]\n",
      "# for i in range(len(sum_weights)-2, -1, -1):\n",
      "#    sum_weights[i] = sum_weights[i+1] + sum_weights[i]\n",
      "x_min = min(jsd_only)\n",
      "x_max = max(jsd_only)\n",
      "#x_min = 0.25\n",
      "#x_max = 0.5\n",
      "dots = [x for x in arange(x_min, x_max, 0.001)]\n",
      "plt.loglog(dots, [count_leq_with_weights(x, jsd_only, []) for x in dots], 'r')\n",
      "plt.grid(which='both')\n",
      "plt.xlim([x_min, x_max])\n",
      "plt.xlabel('JS Divergence')\n",
      "plt.ylabel('CDF')\n",
      "plt.title('JS Divergence')\n",
      "c1 = count_leq(x_min, jsd_only)\n",
      "c2 = count_leq(x_max, jsd_only)\n",
      "print c1, c2\n",
      "print (log(c1) - log(c2)) / (log(x_min) - log(x_max))"
     ],
     "language": "python",
     "metadata": {},
     "outputs": [
      {
       "output_type": "stream",
       "stream": "stdout",
       "text": [
        "1.37396420274e-06 1.0\n",
        "7.84669661536\n"
       ]
      },
      {
       "metadata": {},
       "output_type": "display_data",
       "png": "[encoded data removed]",
       "text": [
        "<matplotlib.figure.Figure at 0x11ddb590>"
       ]
      }
     ],
     "prompt_number": 36
    },
    {
     "cell_type": "code",
     "collapsed": false,
     "input": [
      "close_pairs = [w[0].split(',') for w in jsd_sen[:50]]\n",
      "for wp in close_pairs:\n",
      "    first = wp[0]\n",
      "    elem = [dictMap[w[0]] for w in sorted(vecs[first], key = lambda w: w[1], reverse=True)[0:10]]\n",
      "    print first, elem\n",
      "    second = wp[1]\n",
      "    elem = [dictMap[w[0]] for w in sorted(vecs[second], key = lambda w: w[1], reverse=True)[0:10]]\n",
      "    print second, elem\n",
      "    print\n"
     ],
     "language": "python",
     "metadata": {},
     "outputs": [
      {
       "output_type": "stream",
       "stream": "stdout",
       "text": [
        "first ['one', 'like', 'book', 'quot', 'movie', 'good', 'would', 'great', 'album', 'time']\n",
        "well"
       ]
      },
      {
       "output_type": "stream",
       "stream": "stdout",
       "text": [
        " ['one', 'quot', 'like', 'book', 'good', 'movie', 'album', 'great', 'really', 'would']\n",
        "\n",
        "bought ['great', 'one', 'good', 'would', 'well', 'like', 'use', 'time', 'book', 'get']\n",
        "got"
       ]
      },
      {
       "output_type": "stream",
       "stream": "stdout",
       "text": [
        " ['great', 'one', 'good', 'like', 'would', 'time', 'get', 'well', 'book', 'really']\n",
        "\n",
        "first"
       ]
      },
      {
       "output_type": "stream",
       "stream": "stdout",
       "text": [
        " ['one', 'like', 'book', 'quot', 'movie', 'good', 'would', 'great', 'album', 'time']\n",
        "like"
       ]
      },
      {
       "output_type": "stream",
       "stream": "stdout",
       "text": [
        " ['book', 'quot', 'one', 'many', 'read', 'great', 'movie', 'time', 'good', 'would']\n",
        "\n",
        "bought ['great', 'one', 'good', 'would', 'well', 'like', 'use', 'time', 'book', 'get']\n",
        "purchased"
       ]
      },
      {
       "output_type": "stream",
       "stream": "stdout",
       "text": [
        " ['great', 'one', 'good', 'would', 'use', 'well', 'time', 'old', 'product', 'like']\n",
        "\n",
        "first"
       ]
      },
      {
       "output_type": "stream",
       "stream": "stdout",
       "text": [
        " ['one', 'like', 'book', 'quot', 'movie', 'good', 'would', 'great', 'album', 'time']\n",
        "since ['book', 'one', 'quot', 'like', 'movie', 'read', 'time', 'would', 'first', 'good']\n",
        "\n",
        "like"
       ]
      },
      {
       "output_type": "stream",
       "stream": "stdout",
       "text": [
        " ['book', 'quot', 'one', 'many', 'read', 'great', 'movie', 'time', 'good', 'would']\n",
        "since ['book', 'one', 'quot', 'like', 'movie', 'read', 'time', 'would', 'first', 'good']\n",
        "\n",
        "one"
       ]
      },
      {
       "output_type": "stream",
       "stream": "stdout",
       "text": [
        " ['book', 'quot', 'best', 'time', 'movie', 'great', 'like', 'read', 'ever', 'film']\n",
        "quot"
       ]
      },
      {
       "output_type": "stream",
       "stream": "stdout",
       "text": [
        " ['one', 'book', 'like', 'movie', 'film', 'story', 'great', 'album', 'time', 'best']\n",
        "\n",
        "like"
       ]
      },
      {
       "output_type": "stream",
       "stream": "stdout",
       "text": [
        " ['book', 'quot', 'one', 'many', 'read', 'great', 'movie', 'time', 'good', 'would']\n",
        "one"
       ]
      },
      {
       "output_type": "stream",
       "stream": "stdout",
       "text": [
        " ['book', 'quot', 'best', 'time', 'movie', 'great', 'like', 'read', 'ever', 'film']\n",
        "\n",
        "even ['though', 'book', 'quot', 'one', 'movie', 'like', 'great', 'still', 'good', 'read']\n",
        "first"
       ]
      },
      {
       "output_type": "stream",
       "stream": "stdout",
       "text": [
        " ['one', 'like', 'book', 'quot', 'movie', 'good', 'would', 'great', 'album', 'time']\n",
        "\n",
        "excellent ['book', 'great', 'movie', 'one', 'good', 'read', 'well', 'product', 'would', 'like']\n",
        "great"
       ]
      },
      {
       "output_type": "stream",
       "stream": "stdout",
       "text": [
        " ['book', 'movie', 'one', 'good', 'like', 'read', 'product', 'would', 'well', 'love']\n",
        "\n",
        "good ['book', 'movie', 'like', 'great', 'one', 'would', 'quality', 'well', 'read', 'price']\n",
        "great"
       ]
      },
      {
       "output_type": "stream",
       "stream": "stdout",
       "text": [
        " ['book', 'movie', 'one', 'good', 'like', 'read', 'product', 'would', 'well', 'love']\n",
        "\n",
        "like"
       ]
      },
      {
       "output_type": "stream",
       "stream": "stdout",
       "text": [
        " ['book', 'quot', 'one', 'many', 'read', 'great', 'movie', 'time', 'good', 'would']\n",
        "many ['book', 'quot', 'one', 'people', 'like', 'movie', 'album', 'read', 'great', 'film']\n",
        "\n",
        "like"
       ]
      },
      {
       "output_type": "stream",
       "stream": "stdout",
       "text": [
        " ['book', 'quot', 'one', 'many', 'read', 'great', 'movie', 'time', 'good', 'would']\n",
        "well"
       ]
      },
      {
       "output_type": "stream",
       "stream": "stdout",
       "text": [
        " ['one', 'quot', 'like', 'book', 'good', 'movie', 'album', 'great', 'really', 'would']\n",
        "\n",
        "many ['book', 'quot', 'one', 'people', 'like', 'movie', 'album', 'read', 'great', 'film']\n",
        "one"
       ]
      },
      {
       "output_type": "stream",
       "stream": "stdout",
       "text": [
        " ['book', 'quot', 'best', 'time', 'movie', 'great', 'like', 'read', 'ever', 'film']\n",
        "\n",
        "even ['though', 'book', 'quot', 'one', 'movie', 'like', 'great', 'still', 'good', 'read']\n",
        "like"
       ]
      },
      {
       "output_type": "stream",
       "stream": "stdout",
       "text": [
        " ['book', 'quot', 'one', 'many', 'read', 'great', 'movie', 'time', 'good', 'would']\n",
        "\n",
        "first"
       ]
      },
      {
       "output_type": "stream",
       "stream": "stdout",
       "text": [
        " ['one', 'like', 'book', 'quot', 'movie', 'good', 'would', 'great', 'album', 'time']\n",
        "one"
       ]
      },
      {
       "output_type": "stream",
       "stream": "stdout",
       "text": [
        " ['book', 'quot', 'best', 'time', 'movie', 'great', 'like', 'read', 'ever', 'film']\n",
        "\n",
        "since ['book', 'one', 'quot', 'like', 'movie', 'read', 'time', 'would', 'first', 'good']\n",
        "well"
       ]
      },
      {
       "output_type": "stream",
       "stream": "stdout",
       "text": [
        " ['one', 'quot', 'like', 'book', 'good', 'movie', 'album', 'great', 'really', 'would']\n",
        "\n",
        "even ['though', 'book', 'quot', 'one', 'movie', 'like', 'great', 'still', 'good', 'read']\n",
        "one"
       ]
      },
      {
       "output_type": "stream",
       "stream": "stdout",
       "text": [
        " ['book', 'quot', 'best', 'time', 'movie', 'great', 'like', 'read', 'ever', 'film']\n",
        "\n",
        "one"
       ]
      },
      {
       "output_type": "stream",
       "stream": "stdout",
       "text": [
        " ['book', 'quot', 'best', 'time', 'movie', 'great', 'like', 'read', 'ever', 'film']\n",
        "though ['book', 'quot', 'one', 'like', 'read', 'good', 'story', 'great', 'film', 'movie']\n",
        "\n",
        "every"
       ]
      },
      {
       "output_type": "stream",
       "stream": "stdout",
       "text": [
        " ['one', 'book', 'quot', 'time', 'read', 'like', 'movie', 'great', 'album', 'good']\n",
        "one"
       ]
      },
      {
       "output_type": "stream",
       "stream": "stdout",
       "text": [
        " ['book', 'quot', 'best', 'time', 'movie', 'great', 'like', 'read', 'ever', 'film']\n",
        "\n",
        "like"
       ]
      },
      {
       "output_type": "stream",
       "stream": "stdout",
       "text": [
        " ['book', 'quot', 'one', 'many', 'read', 'great', 'movie', 'time', 'good', 'would']\n",
        "though ['book', 'quot', 'one', 'like', 'read', 'good', 'story', 'great', 'film', 'movie']\n",
        "\n",
        "one"
       ]
      },
      {
       "output_type": "stream",
       "stream": "stdout",
       "text": [
        " ['book', 'quot', 'best', 'time', 'movie', 'great', 'like', 'read', 'ever', 'film']\n",
        "since ['book', 'one', 'quot', 'like', 'movie', 'read', 'time', 'would', 'first', 'good']\n",
        "\n",
        "every"
       ]
      },
      {
       "output_type": "stream",
       "stream": "stdout",
       "text": [
        " ['one', 'book', 'quot', 'time', 'read', 'like', 'movie', 'great', 'album', 'good']\n",
        "like"
       ]
      },
      {
       "output_type": "stream",
       "stream": "stdout",
       "text": [
        " ['book', 'quot', 'one', 'many', 'read', 'great', 'movie', 'time', 'good', 'would']\n",
        "\n",
        "many ['book', 'quot', 'one', 'people', 'like', 'movie', 'album', 'read', 'great', 'film']\n",
        "though"
       ]
      },
      {
       "output_type": "stream",
       "stream": "stdout",
       "text": [
        " ['book', 'quot', 'one', 'like', 'read', 'good', 'story', 'great', 'film', 'movie']\n",
        "\n",
        "even ['though', 'book', 'quot', 'one', 'movie', 'like', 'great', 'still', 'good', 'read']\n",
        "since"
       ]
      },
      {
       "output_type": "stream",
       "stream": "stdout",
       "text": [
        " ['book', 'one', 'quot', 'like', 'movie', 'read', 'time', 'would', 'first', 'good']\n",
        "\n",
        "quot"
       ]
      },
      {
       "output_type": "stream",
       "stream": "stdout",
       "text": [
        " ['one', 'book', 'like', 'movie', 'film', 'story', 'great', 'album', 'time', 'best']\n",
        "though ['book', 'quot', 'one', 'like', 'read', 'good', 'story', 'great', 'film', 'movie']\n",
        "\n",
        "first"
       ]
      },
      {
       "output_type": "stream",
       "stream": "stdout",
       "text": [
        " ['one', 'like', 'book', 'quot', 'movie', 'good', 'would', 'great', 'album', 'time']\n",
        "many ['book', 'quot', 'one', 'people', 'like', 'movie', 'album', 'read', 'great', 'film']\n",
        "\n",
        "many"
       ]
      },
      {
       "output_type": "stream",
       "stream": "stdout",
       "text": [
        " ['book', 'quot', 'one', 'people', 'like', 'movie', 'album', 'read', 'great', 'film']\n",
        "since ['book', 'one', 'quot', 'like', 'movie', 'read', 'time', 'would', 'first', 'good']\n",
        "\n",
        "even"
       ]
      },
      {
       "output_type": "stream",
       "stream": "stdout",
       "text": [
        " ['though', 'book', 'quot', 'one', 'movie', 'like', 'great', 'still', 'good', 'read']\n",
        "well"
       ]
      },
      {
       "output_type": "stream",
       "stream": "stdout",
       "text": [
        " ['one', 'quot', 'like', 'book', 'good', 'movie', 'album', 'great', 'really', 'would']\n",
        "\n",
        "every ['one', 'book', 'quot', 'time', 'read', 'like', 'movie', 'great', 'album', 'good']\n",
        "first"
       ]
      },
      {
       "output_type": "stream",
       "stream": "stdout",
       "text": [
        " ['one', 'like', 'book', 'quot', 'movie', 'good', 'would', 'great', 'album', 'time']\n",
        "\n",
        "anyone ['book', 'quot', 'one', 'movie', 'like', 'read', 'great', 'album', 'time', 'would']\n",
        "one"
       ]
      },
      {
       "output_type": "stream",
       "stream": "stdout",
       "text": [
        " ['book', 'quot', 'best', 'time', 'movie', 'great', 'like', 'read', 'ever', 'film']\n",
        "\n",
        "many ['book', 'quot', 'one', 'people', 'like', 'movie', 'album', 'read', 'great', 'film']\n",
        "quot"
       ]
      },
      {
       "output_type": "stream",
       "stream": "stdout",
       "text": [
        " ['one', 'book', 'like', 'movie', 'film', 'story', 'great', 'album', 'time', 'best']\n",
        "\n",
        "anyone ['book', 'quot', 'one', 'movie', 'like', 'read', 'great', 'album', 'time', 'would']\n",
        "like"
       ]
      },
      {
       "output_type": "stream",
       "stream": "stdout",
       "text": [
        " ['book', 'quot', 'one', 'many', 'read', 'great', 'movie', 'time', 'good', 'would']\n",
        "\n",
        "anyone ['book', 'quot', 'one', 'movie', 'like', 'read', 'great', 'album', 'time', 'would']\n",
        "many"
       ]
      },
      {
       "output_type": "stream",
       "stream": "stdout",
       "text": [
        " ['book', 'quot', 'one', 'people', 'like', 'movie', 'album', 'read', 'great', 'film']\n",
        "\n",
        "anyone ['book', 'quot', 'one', 'movie', 'like', 'read', 'great', 'album', 'time', 'would']\n",
        "first"
       ]
      },
      {
       "output_type": "stream",
       "stream": "stdout",
       "text": [
        " ['one', 'like', 'book', 'quot', 'movie', 'good', 'would', 'great', 'album', 'time']\n",
        "\n",
        "every ['one', 'book', 'quot', 'time', 'read', 'like', 'movie', 'great', 'album', 'good']\n",
        "many"
       ]
      },
      {
       "output_type": "stream",
       "stream": "stdout",
       "text": [
        " ['book', 'quot', 'one', 'people', 'like', 'movie', 'album', 'read', 'great', 'film']\n",
        "\n",
        "anyone ['book', 'quot', 'one', 'movie', 'like', 'read', 'great', 'album', 'time', 'would']\n",
        "every"
       ]
      },
      {
       "output_type": "stream",
       "stream": "stdout",
       "text": [
        " ['one', 'book', 'quot', 'time', 'read', 'like', 'movie', 'great', 'album', 'good']\n",
        "\n",
        "every ['one', 'book', 'quot', 'time', 'read', 'like', 'movie', 'great', 'album', 'good']\n",
        "since"
       ]
      },
      {
       "output_type": "stream",
       "stream": "stdout",
       "text": [
        " ['book', 'one', 'quot', 'like', 'movie', 'read', 'time', 'would', 'first', 'good']\n",
        "\n",
        "like"
       ]
      },
      {
       "output_type": "stream",
       "stream": "stdout",
       "text": [
        " ['book', 'quot', 'one', 'many', 'read', 'great', 'movie', 'time', 'good', 'would']\n",
        "quot"
       ]
      },
      {
       "output_type": "stream",
       "stream": "stdout",
       "text": [
        " ['one', 'book', 'like', 'movie', 'film', 'story', 'great', 'album', 'time', 'best']\n",
        "\n",
        "another ['great', 'book', 'one', 'quot', 'good', 'like', 'movie', 'read', 'story', 'album']\n",
        "one"
       ]
      },
      {
       "output_type": "stream",
       "stream": "stdout",
       "text": [
        " ['book', 'quot', 'best', 'time', 'movie', 'great', 'like', 'read', 'ever', 'film']\n",
        "\n",
        "anyone ['book', 'quot', 'one', 'movie', 'like', 'read', 'great', 'album', 'time', 'would']\n",
        "since"
       ]
      },
      {
       "output_type": "stream",
       "stream": "stdout",
       "text": [
        " ['book', 'one', 'quot', 'like', 'movie', 'read', 'time', 'would', 'first', 'good']\n",
        "\n",
        "great"
       ]
      },
      {
       "output_type": "stream",
       "stream": "stdout",
       "text": [
        " ['book', 'movie', 'one', 'good', 'like', 'read', 'product', 'would', 'well', 'love']\n",
        "love ['great', 'one', 'movie', 'book', 'like', 'good', 'time', 'would', 'read', 'get']\n",
        "\n",
        "every"
       ]
      },
      {
       "output_type": "stream",
       "stream": "stdout",
       "text": [
        " ['one', 'book', 'quot', 'time', 'read', 'like', 'movie', 'great', 'album', 'good']\n",
        "quot"
       ]
      },
      {
       "output_type": "stream",
       "stream": "stdout",
       "text": [
        " ['one', 'book', 'like', 'movie', 'film', 'story', 'great', 'album', 'time', 'best']\n",
        "\n",
        "first"
       ]
      },
      {
       "output_type": "stream",
       "stream": "stdout",
       "text": [
        " ['one', 'like', 'book', 'quot', 'movie', 'good', 'would', 'great', 'album', 'time']\n",
        "people ['quot', 'like', 'one', 'movie', 'book', 'album', 'good', 'great', 'get', 'think']\n",
        "\n",
        "even"
       ]
      },
      {
       "output_type": "stream",
       "stream": "stdout",
       "text": [
        " ['though', 'book', 'quot', 'one', 'movie', 'like', 'great', 'still', 'good', 'read']\n",
        "many ['book', 'quot', 'one', 'people', 'like', 'movie', 'album', 'read', 'great', 'film']\n",
        "\n",
        "even"
       ]
      },
      {
       "output_type": "stream",
       "stream": "stdout",
       "text": [
        " ['though', 'book', 'quot', 'one', 'movie', 'like', 'great', 'still', 'good', 'read']\n",
        "every ['one', 'book', 'quot', 'time', 'read', 'like', 'movie', 'great', 'album', 'good']\n",
        "\n",
        "another"
       ]
      },
      {
       "output_type": "stream",
       "stream": "stdout",
       "text": [
        " ['great', 'book', 'one', 'quot', 'good', 'like', 'movie', 'read', 'story', 'album']\n",
        "like"
       ]
      },
      {
       "output_type": "stream",
       "stream": "stdout",
       "text": [
        " ['book', 'quot', 'one', 'many', 'read', 'great', 'movie', 'time', 'good', 'would']\n",
        "\n",
        "another ['great', 'book', 'one', 'quot', 'good', 'like', 'movie', 'read', 'story', 'album']\n",
        "first"
       ]
      },
      {
       "output_type": "stream",
       "stream": "stdout",
       "text": [
        " ['one', 'like', 'book', 'quot', 'movie', 'good', 'would', 'great', 'album', 'time']\n",
        "\n",
        "ever ['quot', 'since', 'one', 'book', 'like', 'movie', 'read', 'album', 'well', 'time']\n",
        "first"
       ]
      },
      {
       "output_type": "stream",
       "stream": "stdout",
       "text": [
        " ['one', 'like', 'book', 'quot', 'movie', 'good', 'would', 'great', 'album', 'time']\n",
        "\n",
        "since ['book', 'one', 'quot', 'like', 'movie', 'read', 'time', 'would', 'first', 'good']\n",
        "though"
       ]
      },
      {
       "output_type": "stream",
       "stream": "stdout",
       "text": [
        " ['book', 'quot', 'one', 'like', 'read', 'good', 'story', 'great', 'film', 'movie']\n",
        "\n"
       ]
      }
     ],
     "prompt_number": 52
    },
    {
     "cell_type": "code",
     "collapsed": false,
     "input": [],
     "language": "python",
     "metadata": {},
     "outputs": []
    }
   ],
   "metadata": {}
  }
 ]
}